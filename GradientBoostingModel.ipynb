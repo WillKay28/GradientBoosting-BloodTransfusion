{
 "cells": [
  {
   "cell_type": "markdown",
   "id": "9456efd9-6cc0-45c4-ac72-a8d4b6ea65c2",
   "metadata": {},
   "source": [
    "## Gradient Boosting Modeling of Blood Transfusion Data"
   ]
  },
  {
   "cell_type": "markdown",
   "id": "4f99e31e-1d70-4e1a-978f-ce5d8d525670",
   "metadata": {},
   "source": [
    "Gradient boosting is a powerful ensemble ML algorithm popular for structured predictive modeling problems, such as classification and regression on tabular data. It is an ensemble algorithm that fits boosted decision trees by minimizing an error gradient. \n",
    "\n",
    "In this project, I will implement the most used version (in SKlearn) and computationally efficient alternatives implemented in libraries namely the XGBoost, the LightGBM and the CatBoost library. "
   ]
  },
  {
   "cell_type": "code",
   "execution_count": 1,
   "id": "ceca7e5c-0f85-4ed4-8c7e-1e8d66798138",
   "metadata": {},
   "outputs": [],
   "source": [
    "import pandas as pd\n",
    "import numpy as np\n",
    "import seaborn as sns\n",
    "from matplotlib import pyplot as plt\n",
    "from sklearn.model_selection import train_test_split"
   ]
  },
  {
   "cell_type": "code",
   "execution_count": 2,
   "id": "58a57db5-97c0-43c8-b7fc-4f0cb8efd761",
   "metadata": {},
   "outputs": [
    {
     "data": {
      "text/html": [
       "<div>\n",
       "<style scoped>\n",
       "    .dataframe tbody tr th:only-of-type {\n",
       "        vertical-align: middle;\n",
       "    }\n",
       "\n",
       "    .dataframe tbody tr th {\n",
       "        vertical-align: top;\n",
       "    }\n",
       "\n",
       "    .dataframe thead th {\n",
       "        text-align: right;\n",
       "    }\n",
       "</style>\n",
       "<table border=\"1\" class=\"dataframe\">\n",
       "  <thead>\n",
       "    <tr style=\"text-align: right;\">\n",
       "      <th></th>\n",
       "      <th>Recency (months)</th>\n",
       "      <th>Frequency (times)</th>\n",
       "      <th>Monetary (c.c. blood)</th>\n",
       "      <th>Time (months)</th>\n",
       "      <th>whether he/she donated blood in March 2007</th>\n",
       "    </tr>\n",
       "  </thead>\n",
       "  <tbody>\n",
       "    <tr>\n",
       "      <th>0</th>\n",
       "      <td>2</td>\n",
       "      <td>50</td>\n",
       "      <td>12500</td>\n",
       "      <td>98</td>\n",
       "      <td>1</td>\n",
       "    </tr>\n",
       "    <tr>\n",
       "      <th>1</th>\n",
       "      <td>0</td>\n",
       "      <td>13</td>\n",
       "      <td>3250</td>\n",
       "      <td>28</td>\n",
       "      <td>1</td>\n",
       "    </tr>\n",
       "    <tr>\n",
       "      <th>2</th>\n",
       "      <td>1</td>\n",
       "      <td>16</td>\n",
       "      <td>4000</td>\n",
       "      <td>35</td>\n",
       "      <td>1</td>\n",
       "    </tr>\n",
       "    <tr>\n",
       "      <th>3</th>\n",
       "      <td>2</td>\n",
       "      <td>20</td>\n",
       "      <td>5000</td>\n",
       "      <td>45</td>\n",
       "      <td>1</td>\n",
       "    </tr>\n",
       "    <tr>\n",
       "      <th>4</th>\n",
       "      <td>1</td>\n",
       "      <td>24</td>\n",
       "      <td>6000</td>\n",
       "      <td>77</td>\n",
       "      <td>0</td>\n",
       "    </tr>\n",
       "  </tbody>\n",
       "</table>\n",
       "</div>"
      ],
      "text/plain": [
       "   Recency (months)  Frequency (times)  Monetary (c.c. blood)  Time (months)  \\\n",
       "0                 2                 50                  12500             98   \n",
       "1                 0                 13                   3250             28   \n",
       "2                 1                 16                   4000             35   \n",
       "3                 2                 20                   5000             45   \n",
       "4                 1                 24                   6000             77   \n",
       "\n",
       "   whether he/she donated blood in March 2007  \n",
       "0                                           1  \n",
       "1                                           1  \n",
       "2                                           1  \n",
       "3                                           1  \n",
       "4                                           0  "
      ]
     },
     "execution_count": 2,
     "metadata": {},
     "output_type": "execute_result"
    }
   ],
   "source": [
    "data = pd.read_csv(\"transfusion.data\", sep = \",\")\n",
    "data.head()"
   ]
  },
  {
   "cell_type": "code",
   "execution_count": 3,
   "id": "1ba72165-c276-4b0e-8396-a4223aa83c88",
   "metadata": {},
   "outputs": [
    {
     "name": "stdout",
     "output_type": "stream",
     "text": [
      "     Recency  Frequency  Monetary  Time  Target\n",
      "0          2         50     12500    98       1\n",
      "1          0         13      3250    28       1\n",
      "2          1         16      4000    35       1\n",
      "3          2         20      5000    45       1\n",
      "4          1         24      6000    77       0\n",
      "..       ...        ...       ...   ...     ...\n",
      "743       23          2       500    38       0\n",
      "744       21          2       500    52       0\n",
      "745       23          3       750    62       0\n",
      "746       39          1       250    39       0\n",
      "747       72          1       250    72       0\n",
      "\n",
      "[748 rows x 5 columns]\n"
     ]
    }
   ],
   "source": [
    "inputs = data.rename(columns={'Recency (months)': 'Recency', 'Frequency (times)': 'Frequency', \n",
    "                                'Monetary (c.c. blood)':'Monetary', 'Time (months)': 'Time', \n",
    "                               'whether he/she donated blood in March 2007': 'Target'})\n",
    "print(inputs)"
   ]
  },
  {
   "cell_type": "code",
   "execution_count": 4,
   "id": "6b581f99-fa9c-444f-b4ba-6f226d024cc8",
   "metadata": {},
   "outputs": [
    {
     "name": "stdout",
     "output_type": "stream",
     "text": [
      "247\n",
      "501\n"
     ]
    }
   ],
   "source": [
    "data_new = inputs.drop('Target', axis = 'columns')\n",
    "Target = inputs['Target']\n",
    "\n",
    "X_train, X_test, y_train, y_test = train_test_split(inputs.drop(['Target'], axis = 'columns'), inputs.Target, test_size=0.33)\n",
    "print(len(X_test))\n",
    "print(len(X_train))"
   ]
  },
  {
   "cell_type": "markdown",
   "id": "9073dfd1-58b5-40a3-9142-7055bb4788db",
   "metadata": {},
   "source": [
    "#### Gradient Boosting Model Using Repeated K-Fold Cross-Validation from SKLearn"
   ]
  },
  {
   "cell_type": "code",
   "execution_count": 5,
   "id": "1be20670-5aff-49bc-bb77-2e0a6cae3ac7",
   "metadata": {},
   "outputs": [
    {
     "name": "stdout",
     "output_type": "stream",
     "text": [
      "Accuracy = 0.759 (0.047)\n",
      "Prediction = 0\n"
     ]
    }
   ],
   "source": [
    "from sklearn.ensemble import GradientBoostingClassifier\n",
    "from sklearn.model_selection import cross_val_score\n",
    "from sklearn.model_selection import RepeatedStratifiedKFold\n",
    "from matplotlib import pyplot\n",
    "\n",
    "# evaluating model\n",
    "model = GradientBoostingClassifier()\n",
    "cv = RepeatedStratifiedKFold(n_splits=10, n_repeats=3, random_state=1)\n",
    "scoring = cross_val_score(model, X_train, y_train, scoring='accuracy', cv=cv, n_jobs=-1, error_score='raise')\n",
    "print('Accuracy = %.3f (%.3f)' % (np.mean(scoring), np.std(scoring)))\n",
    "\n",
    "# model fitting\n",
    "model = GradientBoostingClassifier()\n",
    "model.fit(X_train, y_train)\n",
    "\n",
    "# make a prediction\n",
    "row743 = [[23, 2, 500, 38]]\n",
    "y_cap = model.predict(row743)\n",
    "print('Prediction = %d' % y_cap[0])"
   ]
  },
  {
   "cell_type": "markdown",
   "id": "03dc292d-a98a-45c5-ac14-cf7542a1e0c0",
   "metadata": {},
   "source": [
    "I observe 78.6% accuracy from GBM implemented above. Also, I predict the whether the 743th person donated blood in March 2007 or not and the algorithm correctly predicts that the patient did not donate blood in March 2007. Already, I observe an improvement in performance in prediction by comparing the mean accuracy score to that of the random forest model."
   ]
  },
  {
   "cell_type": "markdown",
   "id": "4a8969ac-79f4-463c-99b1-9a51a6455ea0",
   "metadata": {},
   "source": [
    "#### Gradient Boosting Model Using Repeated K-Fold Cross-Validation and the XGBoost Classifier"
   ]
  },
  {
   "cell_type": "code",
   "execution_count": 6,
   "id": "e6c280f0-2737-4b79-b324-3bf596da664d",
   "metadata": {},
   "outputs": [
    {
     "name": "stdout",
     "output_type": "stream",
     "text": [
      "1.5.2\n"
     ]
    }
   ],
   "source": [
    "import xgboost\n",
    "print(xgboost.__version__)"
   ]
  },
  {
   "cell_type": "code",
   "execution_count": 1,
   "id": "005a435b-a0a4-438b-a12c-d3775936280c",
   "metadata": {},
   "outputs": [
    {
     "ename": "NameError",
     "evalue": "name 'X_train' is not defined",
     "output_type": "error",
     "traceback": [
      "\u001b[0;31m---------------------------------------------------------------------------\u001b[0m",
      "\u001b[0;31mNameError\u001b[0m                                 Traceback (most recent call last)",
      "\u001b[0;32m/var/folders/59/g_bd5qsj2xvbpwwcrd_j_lq40000gn/T/ipykernel_93051/3611644244.py\u001b[0m in \u001b[0;36m<module>\u001b[0;34m\u001b[0m\n\u001b[1;32m      9\u001b[0m \u001b[0mmodel\u001b[0m \u001b[0;34m=\u001b[0m \u001b[0mXGBClassifier\u001b[0m\u001b[0;34m(\u001b[0m\u001b[0;34m)\u001b[0m\u001b[0;34m\u001b[0m\u001b[0;34m\u001b[0m\u001b[0m\n\u001b[1;32m     10\u001b[0m \u001b[0mcv\u001b[0m \u001b[0;34m=\u001b[0m \u001b[0mRepeatedStratifiedKFold\u001b[0m\u001b[0;34m(\u001b[0m\u001b[0mn_splits\u001b[0m\u001b[0;34m=\u001b[0m\u001b[0;36m10\u001b[0m\u001b[0;34m,\u001b[0m \u001b[0mn_repeats\u001b[0m\u001b[0;34m=\u001b[0m\u001b[0;36m3\u001b[0m\u001b[0;34m,\u001b[0m \u001b[0mrandom_state\u001b[0m\u001b[0;34m=\u001b[0m\u001b[0;36m1\u001b[0m\u001b[0;34m)\u001b[0m\u001b[0;34m\u001b[0m\u001b[0;34m\u001b[0m\u001b[0m\n\u001b[0;32m---> 11\u001b[0;31m \u001b[0mscore\u001b[0m \u001b[0;34m=\u001b[0m \u001b[0mcross_val_score\u001b[0m\u001b[0;34m(\u001b[0m\u001b[0mmodel\u001b[0m\u001b[0;34m,\u001b[0m \u001b[0mX_train\u001b[0m\u001b[0;34m,\u001b[0m \u001b[0my_train\u001b[0m\u001b[0;34m,\u001b[0m \u001b[0mscoring\u001b[0m\u001b[0;34m=\u001b[0m\u001b[0;34m'accuracy'\u001b[0m\u001b[0;34m,\u001b[0m \u001b[0mn_jobs\u001b[0m\u001b[0;34m=\u001b[0m\u001b[0;34m-\u001b[0m\u001b[0;36m1\u001b[0m\u001b[0;34m,\u001b[0m \u001b[0mcv\u001b[0m\u001b[0;34m=\u001b[0m\u001b[0mcv\u001b[0m\u001b[0;34m,\u001b[0m \u001b[0merror_score\u001b[0m\u001b[0;34m=\u001b[0m\u001b[0;34m'raise'\u001b[0m\u001b[0;34m)\u001b[0m\u001b[0;34m\u001b[0m\u001b[0;34m\u001b[0m\u001b[0m\n\u001b[0m\u001b[1;32m     12\u001b[0m \u001b[0mprint\u001b[0m\u001b[0;34m(\u001b[0m\u001b[0;34m'Accuracy = %.3f (%.3f)'\u001b[0m \u001b[0;34m%\u001b[0m \u001b[0;34m(\u001b[0m\u001b[0mnp\u001b[0m\u001b[0;34m.\u001b[0m\u001b[0mmean\u001b[0m\u001b[0;34m(\u001b[0m\u001b[0mscore\u001b[0m\u001b[0;34m)\u001b[0m\u001b[0;34m,\u001b[0m \u001b[0mnp\u001b[0m\u001b[0;34m.\u001b[0m\u001b[0mstd\u001b[0m\u001b[0;34m(\u001b[0m\u001b[0mscore\u001b[0m\u001b[0;34m)\u001b[0m\u001b[0;34m)\u001b[0m\u001b[0;34m)\u001b[0m\u001b[0;34m\u001b[0m\u001b[0;34m\u001b[0m\u001b[0m\n\u001b[1;32m     13\u001b[0m \u001b[0;34m\u001b[0m\u001b[0m\n",
      "\u001b[0;31mNameError\u001b[0m: name 'X_train' is not defined"
     ]
    }
   ],
   "source": [
    "from numpy import asarray\n",
    "from xgboost import XGBClassifier\n",
    "from sklearn.ensemble import GradientBoostingClassifier\n",
    "from sklearn.model_selection import cross_val_score\n",
    "from sklearn.model_selection import RepeatedStratifiedKFold\n",
    "from matplotlib import pyplot\n",
    "import numpy as np\n",
    "\n",
    "model = XGBClassifier()\n",
    "cv = RepeatedStratifiedKFold(n_splits=10, n_repeats=3, random_state=1)\n",
    "score = cross_val_score(model, X_train, y_train, scoring='accuracy', n_jobs=-1, cv=cv, error_score='raise')\n",
    "print('Accuracy = %.3f (%.3f)' % (np.mean(score), np.std(score)))\n",
    "\n",
    "# fit model\n",
    "# model = XGBClassifier()\n",
    "# model.fit(X_train, y_train)\n",
    "\n",
    "# make a prediction\n",
    "# row = [2, 20, 5000, 45]\n",
    "# row3 = asarray(row).reshape((1, len(row)))\n",
    "# y_cap = model.predict(row)\n",
    "# print('Prediction = %d' % y_cap[0])"
   ]
  },
  {
   "cell_type": "code",
   "execution_count": null,
   "id": "2ffbe185-3391-468b-b336-c2d5478f46f9",
   "metadata": {},
   "outputs": [],
   "source": []
  },
  {
   "cell_type": "code",
   "execution_count": null,
   "id": "2c11c11d-30e4-4deb-8295-87cfd6f6bace",
   "metadata": {},
   "outputs": [],
   "source": []
  },
  {
   "cell_type": "code",
   "execution_count": null,
   "id": "0bc7917c-5702-4559-8ffe-8f2e26e79bb7",
   "metadata": {},
   "outputs": [],
   "source": []
  },
  {
   "cell_type": "code",
   "execution_count": null,
   "id": "137aa2a3-d337-4d76-8134-dc42927e5b57",
   "metadata": {},
   "outputs": [],
   "source": []
  },
  {
   "cell_type": "code",
   "execution_count": null,
   "id": "80427d22-3079-44ea-8035-d5a9992f181e",
   "metadata": {},
   "outputs": [],
   "source": []
  },
  {
   "cell_type": "code",
   "execution_count": null,
   "id": "ca98a7d4-9680-43dc-b6af-599a8179e33d",
   "metadata": {},
   "outputs": [],
   "source": []
  },
  {
   "cell_type": "code",
   "execution_count": null,
   "id": "2d11e093-bf09-454a-a1cd-1d4d473e974a",
   "metadata": {},
   "outputs": [],
   "source": []
  }
 ],
 "metadata": {
  "kernelspec": {
   "display_name": "Python 3 (ipykernel)",
   "language": "python",
   "name": "python3"
  },
  "language_info": {
   "codemirror_mode": {
    "name": "ipython",
    "version": 3
   },
   "file_extension": ".py",
   "mimetype": "text/x-python",
   "name": "python",
   "nbconvert_exporter": "python",
   "pygments_lexer": "ipython3",
   "version": "3.9.7"
  }
 },
 "nbformat": 4,
 "nbformat_minor": 5
}
